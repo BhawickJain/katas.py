{
 "cells": [
  {
   "cell_type": "code",
   "execution_count": 1,
   "id": "c3f11259-3295-491f-9187-72406890feee",
   "metadata": {
    "tags": []
   },
   "outputs": [],
   "source": [
    "from katas.heap import heap\n",
    "\n",
    "hp = heap()\n",
    "hp.insert(6)\n",
    "hp.insert(10)\n",
    "hp.insert(1)\n",
    "hp.insert(5)\n",
    "hp.insert(2)\n",
    "hp.insert(11)\n",
    "hp.insert(20)\n",
    "hp.insert(10)\n",
    "hp.insert(30)\n",
    "hp.insert(45)"
   ]
  },
  {
   "cell_type": "code",
   "execution_count": 2,
   "id": "e7f24551-901d-42b3-a672-fad76c9aa2d7",
   "metadata": {},
   "outputs": [
    {
     "data": {
      "text/plain": [
       "[45, 30, 11, 10, 20, 1, 10, 5, 6, 2]"
      ]
     },
     "execution_count": 2,
     "metadata": {},
     "output_type": "execute_result"
    }
   ],
   "source": [
    "hp.store"
   ]
  },
  {
   "cell_type": "code",
   "execution_count": 3,
   "id": "a0c62f84-32d8-406f-89ac-1dc3a8b9f469",
   "metadata": {},
   "outputs": [
    {
     "name": "stdout",
     "output_type": "stream",
     "text": [
      "2\n",
      "6\n",
      "14\n"
     ]
    },
    {
     "ename": "IndexError",
     "evalue": "list index out of range",
     "output_type": "error",
     "traceback": [
      "\u001b[0;31m---------------------------------------------------------------------------\u001b[0m",
      "\u001b[0;31mIndexError\u001b[0m                                Traceback (most recent call last)",
      "Cell \u001b[0;32mIn[3], line 1\u001b[0m\n\u001b[0;32m----> 1\u001b[0m \u001b[43mhp\u001b[49m\u001b[38;5;241;43m.\u001b[39;49m\u001b[43mremove\u001b[49m\u001b[43m(\u001b[49m\u001b[43m)\u001b[49m\n",
      "File \u001b[0;32m/opt/workspace/katas/heap.py:43\u001b[0m, in \u001b[0;36mheap.remove\u001b[0;34m(self)\u001b[0m\n\u001b[1;32m     41\u001b[0m \u001b[38;5;28mprint\u001b[39m(largest_child_idx)\n\u001b[1;32m     42\u001b[0m \u001b[38;5;28;01mif\u001b[39;00m \u001b[38;5;28misinstance\u001b[39m(largest_child_idx, \u001b[38;5;28mint\u001b[39m) \u001b[38;5;241m&\u001b[39m \u001b[38;5;28mself\u001b[39m\u001b[38;5;241m.\u001b[39mstore[last_item_position] \u001b[38;5;241m<\u001b[39m largest_child_idx:\n\u001b[0;32m---> 43\u001b[0m     \u001b[38;5;28;43mself\u001b[39;49m\u001b[38;5;241;43m.\u001b[39;49m\u001b[43mswap_positions\u001b[49m\u001b[43m(\u001b[49m\u001b[43mlargest_child_idx\u001b[49m\u001b[43m,\u001b[49m\u001b[43m \u001b[49m\u001b[43mlast_item_position\u001b[49m\u001b[43m)\u001b[49m\n\u001b[1;32m     44\u001b[0m     last_item_position \u001b[38;5;241m=\u001b[39m largest_child_idx\n\u001b[1;32m     45\u001b[0m     swapped \u001b[38;5;241m=\u001b[39m \u001b[38;5;28;01mTrue\u001b[39;00m\n",
      "File \u001b[0;32m/opt/workspace/katas/heap.py:51\u001b[0m, in \u001b[0;36mheap.swap_positions\u001b[0;34m(self, position_a, position_b)\u001b[0m\n\u001b[1;32m     50\u001b[0m \u001b[38;5;28;01mdef\u001b[39;00m \u001b[38;5;21mswap_positions\u001b[39m(\u001b[38;5;28mself\u001b[39m, position_a: \u001b[38;5;28mint\u001b[39m, position_b: \u001b[38;5;28mint\u001b[39m) \u001b[38;5;241m-\u001b[39m\u001b[38;5;241m>\u001b[39m Tuple[\u001b[38;5;28mint\u001b[39m, \u001b[38;5;28mint\u001b[39m]:\n\u001b[0;32m---> 51\u001b[0m     position_a_value \u001b[38;5;241m=\u001b[39m \u001b[38;5;28;43mself\u001b[39;49m\u001b[38;5;241;43m.\u001b[39;49m\u001b[43mstore\u001b[49m\u001b[43m[\u001b[49m\u001b[43mposition_a\u001b[49m\u001b[43m]\u001b[49m\n\u001b[1;32m     52\u001b[0m     \u001b[38;5;28mself\u001b[39m\u001b[38;5;241m.\u001b[39mstore[position_a] \u001b[38;5;241m=\u001b[39m \u001b[38;5;28mself\u001b[39m\u001b[38;5;241m.\u001b[39mstore[position_b]\n\u001b[1;32m     53\u001b[0m     \u001b[38;5;28mself\u001b[39m\u001b[38;5;241m.\u001b[39mstore[position_b] \u001b[38;5;241m=\u001b[39m position_a_value\n",
      "\u001b[0;31mIndexError\u001b[0m: list index out of range"
     ]
    }
   ],
   "source": [
    "hp.remove()"
   ]
  },
  {
   "cell_type": "code",
   "execution_count": null,
   "id": "5f233ca2-ec4a-48f3-99d5-f206a556ae76",
   "metadata": {},
   "outputs": [],
   "source": []
  }
 ],
 "metadata": {
  "kernelspec": {
   "display_name": "Python 3 (ipykernel)",
   "language": "python",
   "name": "python3"
  },
  "language_info": {
   "codemirror_mode": {
    "name": "ipython",
    "version": 3
   },
   "file_extension": ".py",
   "mimetype": "text/x-python",
   "name": "python",
   "nbconvert_exporter": "python",
   "pygments_lexer": "ipython3",
   "version": "3.11.2"
  }
 },
 "nbformat": 4,
 "nbformat_minor": 5
}
