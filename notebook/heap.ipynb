{
 "cells": [
  {
   "cell_type": "code",
   "execution_count": 1,
   "id": "c3f11259-3295-491f-9187-72406890feee",
   "metadata": {
    "tags": []
   },
   "outputs": [],
   "source": [
    "from katas.heap import heap\n",
    "\n",
    "hp = heap()\n",
    "hp.insert(6)\n",
    "hp.insert(10)\n",
    "hp.insert(1)\n",
    "hp.insert(5)\n",
    "hp.insert(2)\n",
    "hp.insert(11)\n",
    "hp.insert(20)\n",
    "hp.insert(10)\n",
    "hp.insert(30)\n",
    "hp.insert(45)"
   ]
  },
  {
   "cell_type": "code",
   "execution_count": 4,
   "id": "e7f24551-901d-42b3-a672-fad76c9aa2d7",
   "metadata": {
    "tags": []
   },
   "outputs": [
    {
     "data": {
      "text/plain": [
       "[2, 30, 11, 10, 20, 1, 10, 5, 6]"
      ]
     },
     "execution_count": 4,
     "metadata": {},
     "output_type": "execute_result"
    }
   ],
   "source": [
    "hp.store"
   ]
  },
  {
   "cell_type": "code",
   "execution_count": 3,
   "id": "a0c62f84-32d8-406f-89ac-1dc3a8b9f469",
   "metadata": {
    "tags": []
   },
   "outputs": [
    {
     "data": {
      "text/plain": [
       "45"
      ]
     },
     "execution_count": 3,
     "metadata": {},
     "output_type": "execute_result"
    }
   ],
   "source": [
    "hp.remove()"
   ]
  },
  {
   "cell_type": "code",
   "execution_count": null,
   "id": "5f233ca2-ec4a-48f3-99d5-f206a556ae76",
   "metadata": {},
   "outputs": [],
   "source": []
  }
 ],
 "metadata": {
  "kernelspec": {
   "display_name": "Python 3 (ipykernel)",
   "language": "python",
   "name": "python3"
  },
  "language_info": {
   "codemirror_mode": {
    "name": "ipython",
    "version": 3
   },
   "file_extension": ".py",
   "mimetype": "text/x-python",
   "name": "python",
   "nbconvert_exporter": "python",
   "pygments_lexer": "ipython3",
   "version": "3.11.2"
  }
 },
 "nbformat": 4,
 "nbformat_minor": 5
}
